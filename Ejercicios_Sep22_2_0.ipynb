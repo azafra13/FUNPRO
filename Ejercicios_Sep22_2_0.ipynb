{
  "nbformat": 4,
  "nbformat_minor": 0,
  "metadata": {
    "colab": {
      "provenance": [],
      "authorship_tag": "ABX9TyNM2wvOAKIkqfK31DHq3VVN",
      "include_colab_link": true
    },
    "kernelspec": {
      "name": "python3",
      "display_name": "Python 3"
    },
    "language_info": {
      "name": "python"
    }
  },
  "cells": [
    {
      "cell_type": "markdown",
      "metadata": {
        "id": "view-in-github",
        "colab_type": "text"
      },
      "source": [
        "<a href=\"https://colab.research.google.com/github/azafra13/FUNPRO/blob/main/Ejercicios_Sep22_2_0.ipynb\" target=\"_parent\"><img src=\"https://colab.research.google.com/assets/colab-badge.svg\" alt=\"Open In Colab\"/></a>"
      ]
    },
    {
      "cell_type": "code",
      "execution_count": 1,
      "metadata": {
        "colab": {
          "base_uri": "https://localhost:8080/"
        },
        "id": "tcTUp9Md1pz2",
        "outputId": "16a3eccd-232d-43e8-96e3-fabd67ccffb8"
      },
      "outputs": [
        {
          "output_type": "stream",
          "name": "stdout",
          "text": [
            "Ingrese un número:4.33\n",
            "Positivo\n"
          ]
        }
      ],
      "source": [
        "n=float(input(\"Ingrese un número:\"))\n",
        "\n",
        "if n>0:\n",
        "  print(\"Positivo\")\n",
        "elif n==0:\n",
        "  print(\"cero\")\n",
        "else:\n",
        "  print(\"negativo\")"
      ]
    },
    {
      "cell_type": "code",
      "source": [
        "n=int(input(\"Ingrese un número:\"))\n",
        "if n<0:\n",
        "  print(f\"{n} es negativo\")\n",
        "else:\n",
        "  if n==0:\n",
        "    print(f\"{n} es cero\")\n",
        " else:\n",
        "  print(f\"{n} es positivo\")"
      ],
      "metadata": {
        "colab": {
          "base_uri": "https://localhost:8080/"
        },
        "id": "7QPFo13O5xIX",
        "outputId": "25602daf-d4c8-4b5d-f692-40d75c13d671"
      },
      "execution_count": 32,
      "outputs": [
        {
          "output_type": "stream",
          "name": "stdout",
          "text": [
            "Ingrese un número:18\n",
            "18 es positivo\n"
          ]
        }
      ]
    },
    {
      "cell_type": "code",
      "source": [
        "año=int(input(\"Ingrese año:\"))\n",
        "\n",
        "if año % 4==0:\n",
        " if año % 100==0:\n",
        "  if año % 400==0:\n",
        "   print(\"Año bisiesto\")\n",
        "else:\n",
        "  print(\"Año no bisiesto\")"
      ],
      "metadata": {
        "colab": {
          "base_uri": "https://localhost:8080/"
        },
        "id": "rWf7GUCD1uYQ",
        "outputId": "ca445f6b-9584-47ec-85ee-2c3eb3a820a1"
      },
      "execution_count": 33,
      "outputs": [
        {
          "name": "stdout",
          "output_type": "stream",
          "text": [
            "Ingrese año:2036\n"
          ]
        }
      ]
    },
    {
      "cell_type": "code",
      "source": [
        "año=int(input(\"Ingresar año:\"))\n",
        "n1 = año%4\n",
        "n2 = año%400\n",
        "if n1==0 or n2==0:\n",
        "  print(f\"{año} es bisiesto\")\n",
        "else:\n",
        "  print(f\"{año} no es bisiesto\")"
      ],
      "metadata": {
        "colab": {
          "base_uri": "https://localhost:8080/"
        },
        "id": "-WKWqpKf8KM4",
        "outputId": "28ca434a-06c1-482d-afc3-11d6db7c016a"
      },
      "execution_count": 35,
      "outputs": [
        {
          "output_type": "stream",
          "name": "stdout",
          "text": [
            "Ingresar año:2036\n",
            "2036 es bisiesto\n"
          ]
        }
      ]
    },
    {
      "cell_type": "code",
      "source": [
        "peso=float(input(\"Ingrese su peso:\"))\n",
        "altura=float(input(\"Ingrese su altura:\"))\n",
        "imc=peso/altura**2\n",
        "if imc<18.5:\n",
        "  print(\"Bajo peso\")\n",
        "elif imc>=18.5 and imc<24.9:\n",
        "  print(\"Peso normal\")\n",
        "elif imc>=25.0 and imc<29.9:\n",
        "  print(\"sobrepeso\")\n",
        "else:\n",
        "  print(\"Obesidad\")"
      ],
      "metadata": {
        "colab": {
          "base_uri": "https://localhost:8080/"
        },
        "id": "P_aywMhS2paJ",
        "outputId": "0884b370-cd2f-4992-eafe-c4fde72f1865"
      },
      "execution_count": 9,
      "outputs": [
        {
          "output_type": "stream",
          "name": "stdout",
          "text": [
            "Ingrese su peso:150\n",
            "Ingrese su altura:1.70\n",
            "Obesidad\n"
          ]
        }
      ]
    },
    {
      "cell_type": "code",
      "source": [
        "print(\"1.suma\")\n",
        "print(\"2.resta\")\n",
        "print(\"3.multiplicación\")\n",
        "print(\"4.división\")\n",
        "\n",
        "op=int(input(\"Escoja una opción:\"))\n",
        "n1=float(input(\"Ingrese primer digito\"))\n",
        "n2=float(input(\"Ingrese segundo digito\"))\n",
        "\n",
        "match op:\n",
        "  case 1:\n",
        "    print(\"Resultado:\",n1+n2)\n",
        "  case 2:\n",
        "    print(\"Resultado:\",n1-n2)\n",
        "  case 3:\n",
        "    print(\"Resultado:\",n1*n2)\n",
        "  case 4:\n",
        "    if n2==0:\n",
        "      print(\"No es posible dividir\")\n",
        "    else:\n",
        "      print(\"Resultado:\",n1/n2)\n",
        "  case _:\n",
        "      print(\"No válido\")"
      ],
      "metadata": {
        "colab": {
          "base_uri": "https://localhost:8080/"
        },
        "id": "dZKamkt222F-",
        "outputId": "182ef3e5-2159-411f-97dd-e6056bb56771"
      },
      "execution_count": 13,
      "outputs": [
        {
          "output_type": "stream",
          "name": "stdout",
          "text": [
            "1.suma\n",
            "2.resta\n",
            "3.multiplicación\n",
            "4.división\n",
            "Escoja una opción:1\n",
            "Ingrese primer digito6\n",
            "Ingrese segundo digito4\n",
            "Resultado: 10.0\n"
          ]
        }
      ]
    },
    {
      "cell_type": "code",
      "source": [
        "ld1=float(input(\"Ingrese la longitud L1:\"))\n",
        "ld2=float(input(\"Ingrese la longitud L2:\"))\n",
        "ld3=float(input(\"Ingrese la longitud L3:\"))\n",
        "if ld1==ld2==ld3:\n",
        "  print(\"equilatero\")\n",
        "elif ld1==ld2 or ld1==ld3 or ld2==ld3:\n",
        "  print(\"isoceles\")\n",
        "else:\n",
        "  print(\"escaleno\")"
      ],
      "metadata": {
        "colab": {
          "base_uri": "https://localhost:8080/"
        },
        "id": "S5MulBzs4-xQ",
        "outputId": "455d5d3d-2823-4172-da4f-fdc70d209b0e"
      },
      "execution_count": 15,
      "outputs": [
        {
          "output_type": "stream",
          "name": "stdout",
          "text": [
            "Ingrese la longitud L1:7\n",
            "Ingrese la longitud L2:8\n",
            "Ingrese la longitud L3:7\n",
            "isoceles\n"
          ]
        }
      ]
    }
  ]
}