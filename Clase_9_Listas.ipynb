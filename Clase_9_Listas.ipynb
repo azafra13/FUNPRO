{
  "nbformat": 4,
  "nbformat_minor": 0,
  "metadata": {
    "colab": {
      "provenance": [],
      "authorship_tag": "ABX9TyPbM/XTk+IfpB/Kh6BNKXel",
      "include_colab_link": true
    },
    "kernelspec": {
      "name": "python3",
      "display_name": "Python 3"
    },
    "language_info": {
      "name": "python"
    }
  },
  "cells": [
    {
      "cell_type": "markdown",
      "metadata": {
        "id": "view-in-github",
        "colab_type": "text"
      },
      "source": [
        "<a href=\"https://colab.research.google.com/github/azafra13/FUNPRO/blob/main/Clase_9_Listas.ipynb\" target=\"_parent\"><img src=\"https://colab.research.google.com/assets/colab-badge.svg\" alt=\"Open In Colab\"/></a>"
      ]
    },
    {
      "cell_type": "markdown",
      "source": [
        "#LISTAS\n",
        "Son tipos de datos que cumplen con tres características\n",
        "1. Finita: Se puede contar cuántos elementos tiene la lista.\n",
        "2. Homogénea: Sólo almacena un dato en específico\n",
        "3. Ordenada o index. Sabemos qué dato ocupa cada posición\n",
        "\n",
        "Sintaxis\n",
        "```\n",
        "#Lista vacía\n",
        "lista=[]\n",
        "# Manual:\n",
        "flores=[\"rosa\",\"azucena\",\"amapola\",\"jazmín\"]\n",
        "```\n",
        "\n"
      ],
      "metadata": {
        "id": "Tf4gXS4j_7L7"
      }
    },
    {
      "cell_type": "code",
      "execution_count": 4,
      "metadata": {
        "colab": {
          "base_uri": "https://localhost:8080/"
        },
        "id": "xS7coqYZ6PPe",
        "outputId": "4a6fc461-b292-4d21-b38c-c29889540c1a"
      },
      "outputs": [
        {
          "output_type": "stream",
          "name": "stdout",
          "text": [
            "Ingrese el sueldo del trabajador 1:10000\n",
            "Ingrese el sueldo del trabajador 2:2000\n",
            "Ingrese el sueldo del trabajador 3:3\n",
            "Ingrese el sueldo del trabajador 4:4000\n",
            "Ingrese el sueldo del trabajador 5:5200\n",
            "Ingrese el sueldo del trabajador 6:8600\n",
            "Ingrese el sueldo del trabajador 7:40000\n",
            "Ingrese el sueldo del trabajador 8:2500\n",
            "Ingrese el sueldo del trabajador 9:4120\n",
            "Ingrese el sueldo del trabajador 10:5600\n",
            "El sueldo promedio de la empresa es: 8202.3\n",
            "3 trabajadores ganan más que el promedio\n"
          ]
        }
      ],
      "source": [
        "n=10\n",
        "s=0\n",
        "m=0\n",
        "sueldo=[]\n",
        "for e in range(n):\n",
        "  sueldo.append(int(input(f\"Ingrese el sueldo del trabajador {e+1}:\")))\n",
        "  s=sueldo[e]+s #acumulador\n",
        "prom=s/n\n",
        "print(f\"El sueldo promedio de la empresa es: {prom}\")\n",
        "for e in range(n):\n",
        "  if sueldo[e]>prom: m=m+1\n",
        "print(f\"{m} trabajadores ganan más que el promedio\")"
      ]
    },
    {
      "cell_type": "code",
      "source": [
        "n=[]\n",
        "for notas in range(1,6):\n",
        "  n.append(float(input(f\"Ingrese la nota{notas}:\")))"
      ],
      "metadata": {
        "colab": {
          "base_uri": "https://localhost:8080/"
        },
        "id": "3F0Z3eFaJGsK",
        "outputId": "5e3fb025-a71c-410d-d423-0eeefc380723"
      },
      "execution_count": 3,
      "outputs": [
        {
          "name": "stdout",
          "output_type": "stream",
          "text": [
            "Ingrese la nota1:4\n",
            "Ingrese la nota2:4\n",
            "Ingrese la nota3:2\n",
            "Ingrese la nota4:0\n",
            "Ingrese la nota5:1\n"
          ]
        }
      ]
    },
    {
      "cell_type": "code",
      "source": [
        "m1=n.copy()"
      ],
      "metadata": {
        "id": "yRblWH-dPZ3m"
      },
      "execution_count": null,
      "outputs": []
    },
    {
      "cell_type": "code",
      "source": [
        "if n[0]<n[1]<n[2]<n[3]<n[4]:\n",
        "  print(f\"Se va a eliminar la nota {notas[0]}\")\n",
        "  n.remove(n[0])\n",
        "elif n[1]<n[2]<n[3]<n[4]:\n",
        "  print(f\"Se va a eliminar la nota {notas[1]}\")\n",
        "  n.remove(n[1])\n",
        "elif n[2]<n[3]<n[4]:\n",
        "  print(f\"Se va a eliminar la nota {notas[2]}\")\n",
        "  n.remove(n[2])\n",
        "elif n[3]<n[4]:\n",
        "  print(f\"Se va a eliminar la nota {notas[3]}\")\n",
        "  n.remove(n[3])\n",
        "else:\n",
        "  print(f\"Se va a eliminar la nota {notas[4]}\")\n",
        "  n.remove(n[4])"
      ],
      "metadata": {
        "colab": {
          "base_uri": "https://localhost:8080/",
          "height": 211
        },
        "id": "DRqHStmJKFVz",
        "outputId": "8f47f81f-64fb-4a00-ced9-ca4515c4ceba"
      },
      "execution_count": 8,
      "outputs": [
        {
          "output_type": "error",
          "ename": "TypeError",
          "evalue": "'int' object is not subscriptable",
          "traceback": [
            "\u001b[0;31m---------------------------------------------------------------------------\u001b[0m",
            "\u001b[0;31mTypeError\u001b[0m                                 Traceback (most recent call last)",
            "\u001b[0;32m/tmp/ipython-input-1638713868.py\u001b[0m in \u001b[0;36m<cell line: 0>\u001b[0;34m()\u001b[0m\n\u001b[0;32m----> 1\u001b[0;31m \u001b[0;32mif\u001b[0m \u001b[0mn\u001b[0m\u001b[0;34m[\u001b[0m\u001b[0;36m0\u001b[0m\u001b[0;34m]\u001b[0m\u001b[0;34m<\u001b[0m\u001b[0mn\u001b[0m\u001b[0;34m[\u001b[0m\u001b[0;36m1\u001b[0m\u001b[0;34m]\u001b[0m\u001b[0;34m<\u001b[0m\u001b[0mn\u001b[0m\u001b[0;34m[\u001b[0m\u001b[0;36m2\u001b[0m\u001b[0;34m]\u001b[0m\u001b[0;34m<\u001b[0m\u001b[0mn\u001b[0m\u001b[0;34m[\u001b[0m\u001b[0;36m3\u001b[0m\u001b[0;34m]\u001b[0m\u001b[0;34m<\u001b[0m\u001b[0mn\u001b[0m\u001b[0;34m[\u001b[0m\u001b[0;36m4\u001b[0m\u001b[0;34m]\u001b[0m\u001b[0;34m:\u001b[0m\u001b[0;34m\u001b[0m\u001b[0;34m\u001b[0m\u001b[0m\n\u001b[0m\u001b[1;32m      2\u001b[0m   \u001b[0mprint\u001b[0m\u001b[0;34m(\u001b[0m\u001b[0;34mf\"Se va a eliminar la nota {notas[0]}\"\u001b[0m\u001b[0;34m)\u001b[0m\u001b[0;34m\u001b[0m\u001b[0;34m\u001b[0m\u001b[0m\n\u001b[1;32m      3\u001b[0m   \u001b[0mn\u001b[0m\u001b[0;34m.\u001b[0m\u001b[0mremove\u001b[0m\u001b[0;34m(\u001b[0m\u001b[0mn\u001b[0m\u001b[0;34m[\u001b[0m\u001b[0;36m0\u001b[0m\u001b[0;34m]\u001b[0m\u001b[0;34m)\u001b[0m\u001b[0;34m\u001b[0m\u001b[0;34m\u001b[0m\u001b[0m\n\u001b[1;32m      4\u001b[0m \u001b[0;32melif\u001b[0m \u001b[0mn\u001b[0m\u001b[0;34m[\u001b[0m\u001b[0;36m1\u001b[0m\u001b[0;34m]\u001b[0m\u001b[0;34m<\u001b[0m\u001b[0mn\u001b[0m\u001b[0;34m[\u001b[0m\u001b[0;36m2\u001b[0m\u001b[0;34m]\u001b[0m\u001b[0;34m<\u001b[0m\u001b[0mn\u001b[0m\u001b[0;34m[\u001b[0m\u001b[0;36m3\u001b[0m\u001b[0;34m]\u001b[0m\u001b[0;34m<\u001b[0m\u001b[0mn\u001b[0m\u001b[0;34m[\u001b[0m\u001b[0;36m4\u001b[0m\u001b[0;34m]\u001b[0m\u001b[0;34m:\u001b[0m\u001b[0;34m\u001b[0m\u001b[0;34m\u001b[0m\u001b[0m\n\u001b[1;32m      5\u001b[0m   \u001b[0mprint\u001b[0m\u001b[0;34m(\u001b[0m\u001b[0;34mf\"Se va a eliminar la nota {notas[1]}\"\u001b[0m\u001b[0;34m)\u001b[0m\u001b[0;34m\u001b[0m\u001b[0;34m\u001b[0m\u001b[0m\n",
            "\u001b[0;31mTypeError\u001b[0m: 'int' object is not subscriptable"
          ]
        }
      ]
    },
    {
      "cell_type": "code",
      "source": [
        "#Forma 2\n",
        "mini=5.0\n",
        "for notas in range(5):\n",
        "  if n[notas]<mini:\n",
        "    mini=n[notas]\n",
        "    print(f\"La nueva nota menor es: {min}\")"
      ],
      "metadata": {
        "id": "94tTykTiMiPo"
      },
      "execution_count": null,
      "outputs": []
    },
    {
      "cell_type": "code",
      "source": [
        "#Forma 3\n",
        "min(n)"
      ],
      "metadata": {
        "id": "IAOFoVYgO6fu"
      },
      "execution_count": null,
      "outputs": []
    }
  ]
}