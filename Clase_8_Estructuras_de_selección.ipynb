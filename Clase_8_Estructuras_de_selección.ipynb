{
  "nbformat": 4,
  "nbformat_minor": 0,
  "metadata": {
    "colab": {
      "provenance": [],
      "authorship_tag": "ABX9TyNExFttTX/JWctgaUyvfgdM",
      "include_colab_link": true
    },
    "kernelspec": {
      "name": "python3",
      "display_name": "Python 3"
    },
    "language_info": {
      "name": "python"
    }
  },
  "cells": [
    {
      "cell_type": "markdown",
      "metadata": {
        "id": "view-in-github",
        "colab_type": "text"
      },
      "source": [
        "<a href=\"https://colab.research.google.com/github/azafra13/FUNPRO/blob/main/Clase_8_Estructuras_de_selecci%C3%B3n.ipynb\" target=\"_parent\"><img src=\"https://colab.research.google.com/assets/colab-badge.svg\" alt=\"Open In Colab\"/></a>"
      ]
    },
    {
      "cell_type": "markdown",
      "source": [
        "##ESTRUCTURA PARA/for\n",
        "* La estructura para se emplea cuando se sabe **cuántas veces** se repite una acción.\n",
        "\n",
        "Sintaxis\n",
        "...\n",
        "for(variable) in range\n"
      ],
      "metadata": {
        "id": "8bUcDLe1r4dT"
      }
    },
    {
      "cell_type": "code",
      "source": [
        "#Hacer un diagrama que calcule la nómina de n empleados\n",
        "nomina=0\n",
        "n=int(input(\"Ingrese la cantidad de empleados: \"))\n",
        "for s in range(n):\n",
        "  sueldo=int(input(f\"Ingrese el salario del empleado {s+1}:\"))\n",
        "  nomina=nomina+sueldo #Acumulador\n",
        "print(f\"La nómina de {n} empleados es: {nomina}\")"
      ],
      "metadata": {
        "colab": {
          "base_uri": "https://localhost:8080/"
        },
        "id": "jNeup_Rqsn8S",
        "outputId": "fa757ce0-dd2d-40b9-f6fb-11acac42d0d5"
      },
      "execution_count": 11,
      "outputs": [
        {
          "output_type": "stream",
          "name": "stdout",
          "text": [
            "Ingrese la cantidad de empleados: 3\n",
            "Ingrese el salario del empleado 1:10\n",
            "Ingrese el salario del empleado 2:20\n",
            "Ingrese el salario del empleado 3:5\n",
            "La nómina de 3 empleados es: 35\n"
          ]
        }
      ]
    }
  ]
}