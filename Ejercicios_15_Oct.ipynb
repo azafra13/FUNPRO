{
  "nbformat": 4,
  "nbformat_minor": 0,
  "metadata": {
    "colab": {
      "provenance": [],
      "authorship_tag": "ABX9TyN0Yw8+410XbIuEaPkapABd",
      "include_colab_link": true
    },
    "kernelspec": {
      "name": "python3",
      "display_name": "Python 3"
    },
    "language_info": {
      "name": "python"
    }
  },
  "cells": [
    {
      "cell_type": "markdown",
      "metadata": {
        "id": "view-in-github",
        "colab_type": "text"
      },
      "source": [
        "<a href=\"https://colab.research.google.com/github/azafra13/FUNPRO/blob/main/Ejercicios_15_Oct.ipynb\" target=\"_parent\"><img src=\"https://colab.research.google.com/assets/colab-badge.svg\" alt=\"Open In Colab\"/></a>"
      ]
    },
    {
      "cell_type": "code",
      "execution_count": 3,
      "metadata": {
        "colab": {
          "base_uri": "https://localhost:8080/"
        },
        "id": "pi-BcVs_VeIZ",
        "outputId": "9d403f6f-f9fd-4b11-81ee-35626d4fa582"
      },
      "outputs": [
        {
          "output_type": "stream",
          "name": "stdout",
          "text": [
            "Ingrese la cantidad de números a analizar 4\n",
            "Ingrese el número 1: 2\n",
            "Ingrese el número 2: 5\n",
            "Ingrese el número 3: 10\n",
            "Ingrese el número 4: 8\n",
            "La cantidad de ceros en 4 números es 0 \n"
          ]
        }
      ],
      "source": [
        "#1\n",
        "n=int(input(\"Ingrese la cantidad de números a analizar \"))\n",
        "cero=0\n",
        "for i in range(1,n+1):\n",
        "  num=int(input(f\"Ingrese el número {i}: \"))\n",
        "  if num==0: cero=cero+1\n",
        "print(f\"La cantidad de ceros en {n} números es {cero} \")"
      ]
    },
    {
      "cell_type": "code",
      "source": [
        "#2\n",
        "par=0\n",
        "impar=0\n",
        "n=0\n",
        "\n",
        "for i in range(10):\n",
        "  num=int(input(\"Ingrese un número: \"))\n",
        "  if num%2==0:\n",
        "    par=par+num\n",
        "    n=n+1\n",
        "  else: impar=impar+num\n",
        "\n",
        "print(f\"La suma de los números impares es {impar}\")\n",
        "print(f\"El promedio de los números pares es {par/n}\")"
      ],
      "metadata": {
        "colab": {
          "base_uri": "https://localhost:8080/"
        },
        "id": "ymZpljaqWA4N",
        "outputId": "4dcc4197-9ac2-435e-ed2f-b8c1d1ff85e9"
      },
      "execution_count": 4,
      "outputs": [
        {
          "output_type": "stream",
          "name": "stdout",
          "text": [
            "Ingrese un número: 4\n",
            "Ingrese un número: 8\n",
            "Ingrese un número: 7\n",
            "Ingrese un número: 2\n",
            "Ingrese un número: 9\n",
            "Ingrese un número: 6\n",
            "Ingrese un número: 1\n",
            "Ingrese un número: 3\n",
            "Ingrese un número: 5\n",
            "Ingrese un número: 10\n",
            "La suma de los números impares es 25\n",
            "El promedio de los números pares es 6.0\n"
          ]
        }
      ]
    },
    {
      "cell_type": "code",
      "source": [
        "#3\n",
        "c=int(input)"
      ],
      "metadata": {
        "id": "5XFUUHp9Wgad"
      },
      "execution_count": null,
      "outputs": []
    }
  ]
}