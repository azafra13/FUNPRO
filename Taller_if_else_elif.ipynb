{
  "nbformat": 4,
  "nbformat_minor": 0,
  "metadata": {
    "colab": {
      "provenance": [],
      "authorship_tag": "ABX9TyO+/MKqzRyoRd4qUt6z+3pN",
      "include_colab_link": true
    },
    "kernelspec": {
      "name": "python3",
      "display_name": "Python 3"
    },
    "language_info": {
      "name": "python"
    }
  },
  "cells": [
    {
      "cell_type": "markdown",
      "metadata": {
        "id": "view-in-github",
        "colab_type": "text"
      },
      "source": [
        "<a href=\"https://colab.research.google.com/github/azafra13/FUNPRO/blob/main/Taller_if_else_elif.ipynb\" target=\"_parent\"><img src=\"https://colab.research.google.com/assets/colab-badge.svg\" alt=\"Open In Colab\"/></a>"
      ]
    },
    {
      "cell_type": "code",
      "execution_count": 29,
      "metadata": {
        "colab": {
          "base_uri": "https://localhost:8080/"
        },
        "id": "lKf41fckcFBk",
        "outputId": "dd76df1e-ecef-4811-a97e-2fe43e0adcf6"
      },
      "outputs": [
        {
          "output_type": "stream",
          "name": "stdout",
          "text": [
            "Ingrese el valor de humedad del suelo (%): 20\n",
            "Ingrese la probabilidad de lluvia (%): 30\n",
            "Ingrese la temperatura (°C): 15\n",
            "Ingrese la hora (24h):8\n",
            "Regar\n"
          ]
        }
      ],
      "source": [
        "humedad_suelo = float(input(\"Ingrese el valor de humedad del suelo (%): \"))\n",
        "prob_lluvia = float(input(\"Ingrese la probabilidad de lluvia (%): \"))\n",
        "temp_c = float(input(\"Ingrese la temperatura (°C): \"))\n",
        "hora = int(input(\"Ingrese la hora (24h):\"))\n",
        "if humedad_suelo < 0 or prob_lluvia < 0 or hora < 0 or hora > 13:\n",
        "    print(\"Error sensor\")\n",
        "elif prob_lluvia >= 70:\n",
        "  print(\"No regar\")\n",
        "elif 11 <= hora <= 15 and temp_c > 30:\n",
        "  print(\" No regar\")\n",
        "elif humedad_suelo < 35 and prob_lluvia < 40:\n",
        "  print(\"Regar\")\n",
        "else:\n",
        "  print(\"No regar\")"
      ]
    },
    {
      "cell_type": "code",
      "source": [
        "kwh = float(input(\"Ingrese la cantidad de kilovatios consumidos: \"))\n",
        "estrato = int(input(\"Ingrese el estrato (0 a 6): \"))\n",
        "festivo = input(\"Es festivo(si/no):\")\n",
        "tarifa_base = kwh * 620\n",
        "extra = 0\n",
        "rebaja = 0\n",
        "\n",
        "if kwh < 0 or estrato < 0 or estrato > 6:\n",
        "  print(\"Error, revisar contador en el predio.\")\n",
        "else:\n",
        "  if kwh > 1000:\n",
        "    extra = (kwh - 1000) * 800\n",
        "\n",
        "  if festivo == \"si\":\n",
        "    rebaja = tarifa_base * 0.2\n",
        "\n",
        "  paga_total = tarifa_base - rebaja + extra\n",
        "\n",
        "  print(f\"El cargo adicional es: {extra}\")\n",
        "  print(f\"La rebaja aplicada es: {rebaja}\")\n",
        "  print(f\"La tarifa base es: {tarifa_base}\")\n",
        "  print(f\"El valor a cancelar es: {paga_total}\")"
      ],
      "metadata": {
        "colab": {
          "base_uri": "https://localhost:8080/"
        },
        "id": "UwCzNJWIeBm5",
        "outputId": "89ab2f4c-cfbc-48af-948e-1129749ba2bf"
      },
      "execution_count": 41,
      "outputs": [
        {
          "output_type": "stream",
          "name": "stdout",
          "text": [
            "Ingrese la cantidad de kilovatios consumidos: 200\n",
            "Ingrese el estrato (0 a 6): 2\n",
            "Es festivo(si/no):no\n",
            "El cargo adicional es: 0\n",
            "La rebaja aplicada es: 0\n",
            "La tarifa base es: 124000.0\n",
            "El valor a cancelar es: 124000.0\n"
          ]
        }
      ]
    }
  ]
}