{
  "nbformat": 4,
  "nbformat_minor": 0,
  "metadata": {
    "colab": {
      "provenance": [],
      "authorship_tag": "ABX9TyP4drl0go3hVDB3BK5+i6ER",
      "include_colab_link": true
    },
    "kernelspec": {
      "name": "python3",
      "display_name": "Python 3"
    },
    "language_info": {
      "name": "python"
    }
  },
  "cells": [
    {
      "cell_type": "markdown",
      "metadata": {
        "id": "view-in-github",
        "colab_type": "text"
      },
      "source": [
        "<a href=\"https://colab.research.google.com/github/azafra13/FUNPRO/blob/main/Estructura_de_repetici%C3%B3n_mientras.ipynb\" target=\"_parent\"><img src=\"https://colab.research.google.com/assets/colab-badge.svg\" alt=\"Open In Colab\"/></a>"
      ]
    },
    {
      "cell_type": "markdown",
      "source": [
        "#ESTRUCTURA DE REPETICIÓN MIENTRAS\n",
        "Es una estructura de repetición booleana empleada cuando no se sabe **cuántas veces se debe repetir la condición**.\n",
        "Comprende de:\n",
        "1. Una condición inicial.\n",
        "2. Un centinela que evalua si se cumple la condición final.\n",
        "3. Un modificador de condición inicial.\n",
        "\n",
        "A diferencia de la estructura para, el modificador puede ser un contador, un acumulador o lo que sea."
      ],
      "metadata": {
        "id": "00QpZvEg8qlW"
      }
    },
    {
      "cell_type": "code",
      "source": [
        "ahorro=int(input(\"Con cuánto dinero cuento?\"))\n",
        "opc=input(\"Deseo comprar algo?\")\n",
        "while ahorro>=0 and opc==\"s\":\n",
        "  precio=int(input(\"Cuánto cuesta eso?\"))\n",
        "  if precio<=ahorro:\n",
        "    print(\"Lo compro!!\")\n",
        "    ahorro=ahorro-precio #acumulador\n",
        "  else:\n",
        "    print(\"No me alcanza\")\n",
        "\n",
        "  opc=input(\"Deseo comprar algo?\")\n"
      ],
      "metadata": {
        "colab": {
          "base_uri": "https://localhost:8080/"
        },
        "id": "kudZaV2N-Tzc",
        "outputId": "8a1e995a-40e1-41ca-a0b7-da1df63d238d"
      },
      "execution_count": 9,
      "outputs": [
        {
          "name": "stdout",
          "output_type": "stream",
          "text": [
            "Con cuánto dinero cuento?5000\n",
            "Deseo comprar algo?s\n",
            "Cuánto cuesta eso?4000\n",
            "Lo compro!!\n",
            "Deseo comprar algo?n\n"
          ]
        }
      ]
    }
  ]
}