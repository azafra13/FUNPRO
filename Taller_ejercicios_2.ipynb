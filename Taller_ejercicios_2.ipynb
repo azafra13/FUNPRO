{
  "nbformat": 4,
  "nbformat_minor": 0,
  "metadata": {
    "colab": {
      "provenance": [],
      "authorship_tag": "ABX9TyOFiG9H8lvujkO2rpLHvYq4",
      "include_colab_link": true
    },
    "kernelspec": {
      "name": "python3",
      "display_name": "Python 3"
    },
    "language_info": {
      "name": "python"
    }
  },
  "cells": [
    {
      "cell_type": "markdown",
      "metadata": {
        "id": "view-in-github",
        "colab_type": "text"
      },
      "source": [
        "<a href=\"https://colab.research.google.com/github/azafra13/FUNPRO/blob/main/Taller_ejercicios_2.ipynb\" target=\"_parent\"><img src=\"https://colab.research.google.com/assets/colab-badge.svg\" alt=\"Open In Colab\"/></a>"
      ]
    },
    {
      "cell_type": "code",
      "execution_count": 27,
      "metadata": {
        "colab": {
          "base_uri": "https://localhost:8080/"
        },
        "id": "lKf41fckcFBk",
        "outputId": "f629eea9-808a-499c-cdab-35fb979ea03e"
      },
      "outputs": [
        {
          "name": "stdout",
          "output_type": "stream",
          "text": [
            "Ingrese el valor de humedad del suelo (%): 30\n",
            "Ingrese la probabilidad de lluvia (%): 20\n",
            "Ingrese la temperatura (°C): 15\n"
          ]
        }
      ],
      "source": [
        "humedad_suelo = float(input(\"Ingrese el valor de humedad del suelo (%): \"))\n",
        "prob_lluvia = float(input(\"Ingrese la probabilidad de lluvia (%): \"))\n",
        "temp_c = float(input(\"Ingrese la temperatura (°C): \"))\n",
        "if humedad_suelo == 0 or prob_lluvia == 0 or temp_c == 0:\n",
        "    print(\"Error sensor\")\n",
        "\n",
        "    if prob_lluvia >= 70:\n",
        "        print(\"Nunca regar: probabilidad de lluvia muy alta.\")\n",
        "    elif 11 <= temp_c <= 15:\n",
        "        print(\"No regar: evitar evaporación por temperatura entre 11 y 15°C.\")\n",
        "    elif humedad_suelo < 35 and prob_lluvia < 40:\n",
        "        print(\"Riego activado.\")\n",
        "    else:\n",
        "        print(\"No se riega.\")"
      ]
    },
    {
      "cell_type": "code",
      "source": [
        "kwh = float(input(\"Ingrese la cantidad de kilovatios consumidos: \"))\n",
        "estrato = float(input(\"Ingrese el estrato (0 a 6): \"))\n",
        "festivo = float(input(\"Es día festivo (si/no)\"))\n",
        "tarifa_base= kwh*602\n"
      ],
      "metadata": {
        "colab": {
          "base_uri": "https://localhost:8080/",
          "height": 106
        },
        "id": "UwCzNJWIeBm5",
        "outputId": "b0bc4733-d7ca-4ca0-e046-e235107a7f93"
      },
      "execution_count": 21,
      "outputs": [
        {
          "output_type": "error",
          "ename": "IndentationError",
          "evalue": "unindent does not match any outer indentation level (<tokenize>, line 8)",
          "traceback": [
            "\u001b[0;36m  File \u001b[0;32m\"<tokenize>\"\u001b[0;36m, line \u001b[0;32m8\u001b[0m\n\u001b[0;31m    estrato in [0, 1, 2]:\u001b[0m\n\u001b[0m    ^\u001b[0m\n\u001b[0;31mIndentationError\u001b[0m\u001b[0;31m:\u001b[0m unindent does not match any outer indentation level\n"
          ]
        }
      ]
    }
  ]
}