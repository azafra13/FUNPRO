{
  "nbformat": 4,
  "nbformat_minor": 0,
  "metadata": {
    "colab": {
      "provenance": [],
      "authorship_tag": "ABX9TyNoNNy7m4ylWKWrvzUMbzTi",
      "include_colab_link": true
    },
    "kernelspec": {
      "name": "python3",
      "display_name": "Python 3"
    },
    "language_info": {
      "name": "python"
    }
  },
  "cells": [
    {
      "cell_type": "markdown",
      "metadata": {
        "id": "view-in-github",
        "colab_type": "text"
      },
      "source": [
        "<a href=\"https://colab.research.google.com/github/azafra13/FUNPRO/blob/main/Taller_ejercicios_2.ipynb\" target=\"_parent\"><img src=\"https://colab.research.google.com/assets/colab-badge.svg\" alt=\"Open In Colab\"/></a>"
      ]
    },
    {
      "cell_type": "code",
      "execution_count": 15,
      "metadata": {
        "colab": {
          "base_uri": "https://localhost:8080/"
        },
        "id": "lKf41fckcFBk",
        "outputId": "37596e9c-4cce-4779-ce39-477f0a2238fa"
      },
      "outputs": [
        {
          "output_type": "stream",
          "name": "stdout",
          "text": [
            "Ingrese el valor de humedad del suelo (%): 30\n",
            "Ingrese la probabilidad de lluvia (%): 20\n",
            "Ingrese la temperatura (°C): 25\n",
            "Riego activado.\n"
          ]
        }
      ],
      "source": [
        "humedad_suelo = float(input(\"Ingrese el valor de humedad del suelo (%): \"))\n",
        "prob_lluvia = float(input(\"Ingrese la probabilidad de lluvia (%): \"))\n",
        "temp_c = float(input(\"Ingrese la temperatura (°C): \"))\n",
        "if humedad_suelo == 0 or prob_lluvia == 0 or temp_c == 0:\n",
        "    print(\"Error sensor\")\n",
        "else:\n",
        "    if prob_lluvia >= 70:\n",
        "        print(\"Nunca regar: probabilidad de lluvia muy alta.\")\n",
        "    elif 11 <= temp_c <= 15:\n",
        "        print(\"No regar: evitar evaporación por temperatura entre 11 y 15°C.\")\n",
        "    elif humedad_suelo < 35 and prob_lluvia < 40:\n",
        "        print(\"Riego activado.\")\n",
        "    else:\n",
        "        print(\"No se riega.\")"
      ]
    },
    {
      "cell_type": "code",
      "source": [
        "try:\n",
        "    kwh = float(input(\"Ingrese la cantidad de kilovatios consumidos (Kwh): \"))\n",
        "    estrato = int(input(\"Ingrese el estrato (0 a 6): \"))\n",
        "    dia_semana = input(\"Ingrese el día de la semana: \").capitalize()\n",
        "    if kwh <= 0 or estrato < 0 or estrato > 6:\n",
        "        print(\"Error: datos inválidos. Se debe programar una visita al predio.\")\n",
        "    else:\n",
        "        base = kwh * 620\n",
        "        if estrato in [0, 1, 2]:\n",
        "            base *= 0.8\n",
        "        dias_festivos = [\"Sábado\", \"Domingo\"]\n",
        "        if dia_semana in dias_festivos and kwh > 1000:\n",
        "            base += 800\n",
        "        print(f\"El valor total a pagar es: ${base:.2f}\")\n",
        "except:\n",
        "    print(\"Error: Entrada inválida.\")"
      ],
      "metadata": {
        "colab": {
          "base_uri": "https://localhost:8080/"
        },
        "id": "UwCzNJWIeBm5",
        "outputId": "48013ac1-40cd-4f75-8198-0b7c2975bd67"
      },
      "execution_count": 18,
      "outputs": [
        {
          "output_type": "stream",
          "name": "stdout",
          "text": [
            "Error: Entrada inválida.\n"
          ]
        }
      ]
    }
  ]
}