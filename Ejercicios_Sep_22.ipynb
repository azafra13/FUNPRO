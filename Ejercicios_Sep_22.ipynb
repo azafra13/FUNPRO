{
  "nbformat": 4,
  "nbformat_minor": 0,
  "metadata": {
    "colab": {
      "provenance": [],
      "authorship_tag": "ABX9TyNAnBJ4FO8HQQXlqPmt3BT2",
      "include_colab_link": true
    },
    "kernelspec": {
      "name": "python3",
      "display_name": "Python 3"
    },
    "language_info": {
      "name": "python"
    }
  },
  "cells": [
    {
      "cell_type": "markdown",
      "metadata": {
        "id": "view-in-github",
        "colab_type": "text"
      },
      "source": [
        "<a href=\"https://colab.research.google.com/github/azafra13/FUNPRO/blob/main/Ejercicios_Sep_22.ipynb\" target=\"_parent\"><img src=\"https://colab.research.google.com/assets/colab-badge.svg\" alt=\"Open In Colab\"/></a>"
      ]
    },
    {
      "cell_type": "code",
      "execution_count": 9,
      "metadata": {
        "colab": {
          "base_uri": "https://localhost:8080/"
        },
        "id": "2oHsO7OPsYwp",
        "outputId": "85fdd47f-be65-4af1-f22f-6819e2e952b0"
      },
      "outputs": [
        {
          "output_type": "stream",
          "name": "stdout",
          "text": [
            "Ingrese un número:0\n",
            "cero\n"
          ]
        }
      ],
      "source": [
        "n=float(input(\"Ingrese un número:\"))\n",
        "\n",
        "if n>0:\n",
        "  print(\"Positivo\")\n",
        "elif n==0:\n",
        "  print(\"cero\")\n",
        "else:\n",
        "  print(\"negativo\")"
      ]
    },
    {
      "cell_type": "code",
      "source": [
        "yr=int(input(\"Ingrese año:\"))\n",
        "yr1=yr%4\n",
        "yr2=yr%100\n",
        "yr3=yr%400"
      ],
      "metadata": {
        "colab": {
          "base_uri": "https://localhost:8080/"
        },
        "id": "6XG_-2eqwGkm",
        "outputId": "171c0029-3a3d-44a5-be83-9d679165fce9"
      },
      "execution_count": 10,
      "outputs": [
        {
          "output_type": "stream",
          "name": "stdout",
          "text": [
            "Ingrese año:2038\n",
            "Año bisiesto\n"
          ]
        }
      ]
    },
    {
      "cell_type": "code",
      "source": [
        "peso=float(input(\"Ingrese su peso:\"))\n",
        "altura=float(input(\"Ingrese su altura:\"))\n",
        "imc=peso/altura**2\n",
        "if imc<18.5:\n",
        "  print(\"Bajo peso\")\n",
        "elif imc>=18.5 and imc<24.9:\n",
        "  print(\"Peso normal\")\n",
        "elif imc>=25.0 and imc<29.9:\n",
        "  print(\"sobrepeso\")\n",
        "else:\n",
        "  print(\"Obesidad\")"
      ],
      "metadata": {
        "colab": {
          "base_uri": "https://localhost:8080/"
        },
        "id": "4JQ-sX6L0UAC",
        "outputId": "8f2aaa03-9fe1-4474-add0-2f2555b78aa6"
      },
      "execution_count": 13,
      "outputs": [
        {
          "output_type": "stream",
          "name": "stdout",
          "text": [
            "Ingrese su peso:150\n",
            "Ingrese su altura:2.00\n",
            "Obesidad\n"
          ]
        }
      ]
    },
    {
      "cell_type": "code",
      "source": [],
      "metadata": {
        "id": "_uezkZ3w2Dv4"
      },
      "execution_count": null,
      "outputs": []
    },
    {
      "cell_type": "code",
      "source": [
        "ld1=float(input(\"Ingrese la longitud:\"))\n",
        "ld2=float(input(\"Ingrese la longitud:\"))\n",
        "ld3=float(input(\"Ingrese la longitud:\"))\n",
        "if ld1==ld2==ld3:\n",
        "  print(\"equilatero\")\n",
        "elif ld1==ld2 or ld1==ld3 or ld2==ld3:\n",
        "  print(\"isoceles\")\n",
        "else:\n",
        "  print(\"escaleno\")"
      ],
      "metadata": {
        "colab": {
          "base_uri": "https://localhost:8080/"
        },
        "id": "TOiP3mD-7ldr",
        "outputId": "fa2ed66e-371f-4e64-f338-7275c1c0d420"
      },
      "execution_count": 14,
      "outputs": [
        {
          "output_type": "stream",
          "name": "stdout",
          "text": [
            "Ingrese la longitud:10\n",
            "Ingrese la longitud:10\n",
            "Ingrese la longitud:10\n",
            "equilatero\n"
          ]
        }
      ]
    }
  ]
}