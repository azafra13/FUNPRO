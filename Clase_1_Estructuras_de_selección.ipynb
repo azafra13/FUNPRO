{
  "nbformat": 4,
  "nbformat_minor": 0,
  "metadata": {
    "colab": {
      "provenance": [],
      "authorship_tag": "ABX9TyNjUoQfgam0Ov+dq+Uq9I/h",
      "include_colab_link": true
    },
    "kernelspec": {
      "name": "python3",
      "display_name": "Python 3"
    },
    "language_info": {
      "name": "python"
    }
  },
  "cells": [
    {
      "cell_type": "markdown",
      "metadata": {
        "id": "view-in-github",
        "colab_type": "text"
      },
      "source": [
        "<a href=\"https://colab.research.google.com/github/azafra13/FUNPRO/blob/main/Clase_1_Estructuras_de_selecci%C3%B3n.ipynb\" target=\"_parent\"><img src=\"https://colab.research.google.com/assets/colab-badge.svg\" alt=\"Open In Colab\"/></a>"
      ]
    },
    {
      "cell_type": "markdown",
      "source": [],
      "metadata": {
        "id": "T028o-lnQ8gP"
      }
    },
    {
      "cell_type": "markdown",
      "source": [],
      "metadata": {
        "id": "o52pJ03WTMZE"
      }
    },
    {
      "cell_type": "code",
      "execution_count": null,
      "metadata": {
        "id": "HtwglOMuQmWv"
      },
      "outputs": [],
      "source": [
        "#Ejemplo1: AI para gasolina\n",
        "respuesta=\"\" #Declaramos una variable como caracter\n",
        "#Para imprimir, usamos el comando print\n",
        "print (\"Detecto poca gasolina en el tanque\")\n",
        "print (\"Desea ir a la gasolinera más cercana?\")\n",
        "#función input para leer respuestas\n",
        "respuesta=input()"
      ]
    },
    {
      "cell_type": "code",
      "source": [
        "respuesta=input (\"Detecto poca gasolina en el tanque\\nDesea ir a la gasolinera más cercana?\")"
      ],
      "metadata": {
        "colab": {
          "base_uri": "https://localhost:8080/"
        },
        "id": "xNCXSXplcSDe",
        "outputId": "3fe94758-8559-4834-f9b1-1eaf3f101815"
      },
      "execution_count": null,
      "outputs": [
        {
          "name": "stdout",
          "output_type": "stream",
          "text": [
            "Detecto poca gasolina en el tanque\n",
            "Desea ir a la gasolinera más cercana?sí\n"
          ]
        }
      ]
    },
    {
      "cell_type": "code",
      "source": [
        "if respuesta==\"sí\":\n",
        "  print(\"Ir a la gasolinera más cercana\")\n",
        "else:\n",
        "  print(\"seguimos derecho\")"
      ],
      "metadata": {
        "colab": {
          "base_uri": "https://localhost:8080/"
        },
        "id": "WkXbXDeic0F-",
        "outputId": "6ecc04b2-e3c8-461c-adac-fbc708f24e43"
      },
      "execution_count": null,
      "outputs": [
        {
          "output_type": "stream",
          "name": "stdout",
          "text": [
            "Ir a la gasolinera más cercana\n"
          ]
        }
      ]
    },
    {
      "cell_type": "code",
      "source": [
        "#Vamos a mejorar el ejercicio\n",
        "import random\n",
        "gasolina=random.randint(1,100)#Hallar un número aleatorio entre 1 y 100\n",
        "gasolina"
      ],
      "metadata": {
        "colab": {
          "base_uri": "https://localhost:8080/"
        },
        "id": "c_IQ40lVf8dF",
        "outputId": "48dc640b-a61a-42a5-ee43-c46bbcb7e9ee"
      },
      "execution_count": null,
      "outputs": [
        {
          "output_type": "execute_result",
          "data": {
            "text/plain": [
              "14"
            ]
          },
          "metadata": {},
          "execution_count": 9
        }
      ]
    },
    {
      "cell_type": "code",
      "source": [
        "if gasolina<=10:\n",
        "  respuesta=input(\"Detecto poca gasolina en el tanque\\nDesea ir a la gasolinera más cercana?\")\n",
        "  if respuesta==\"sí\":\n",
        "   print(\"Ir a la gasolinera más cercana\")\n",
        "else:\n",
        "  print(\"sigo por el camino\")"
      ],
      "metadata": {
        "colab": {
          "base_uri": "https://localhost:8080/"
        },
        "id": "OxYeBgrsgceM",
        "outputId": "bec8eb26-1f86-422b-c023-87396a26445e"
      },
      "execution_count": null,
      "outputs": [
        {
          "output_type": "stream",
          "name": "stdout",
          "text": [
            "sigo por el camino\n"
          ]
        }
      ]
    },
    {
      "cell_type": "markdown",
      "source": [
        "#IF-ELIF-ELSE\n",
        "Una de las formas para representar un switch\n",
        "1. Hay una o varias variables a evaluar\n",
        "2. Hay tantas condiciones como \"paticas\"+1\n",
        "3. La última evaluación es ninguna de las anteriores\n",
        "4. La primera patica siempre recibe el \"if\"\n",
        "5. El resto de paticas reecibe \"elif\"\n"
      ],
      "metadata": {
        "id": "V_4HdRBYS9Kj"
      }
    },
    {
      "cell_type": "code",
      "source": [
        "#Pasa o no la materia, dependiendo de promedio>3 y asistencia>80%\n",
        "nota=float(input(\"Ingrese su promedio\"))\n",
        "asistencia=int(input(\"Ingrese la cantidad de horas asistidas\"))\n",
        "horas_totales=int(input(\"Ingrese la cantidad de horas totales de la clase\"))\n",
        "if nota>=3 and asistencia>horas_totales*.8:\n",
        "  print(f\"El estudiante pasó la materia con {nota} y asistió a más del 80% de las clases.\")\n",
        "elif nota<3 and asistencia>horas_totales*.8:\n",
        "  print(f\"El estudiante pierde la materia con {nota} pero asistió a más del 80% de las clases.\")\n",
        "elif nota>=3 and asistencia<horas_totales*.8:\n",
        "  print(f\"El estudiante pasó la materia con {nota} pero pierde debido a inasistencias.\")\n",
        "else:\n",
        "  print(f\"El estudiante perdió la materia con {nota} y no asistió a más del 80% de las clases.\")"
      ],
      "metadata": {
        "id": "4BFFKxNFTqzi"
      },
      "execution_count": null,
      "outputs": []
    },
    {
      "cell_type": "markdown",
      "source": [
        "#MATCH-CASE\n",
        "Otra forma de ver la estructura switch\n",
        "1. Dentro del hexágono se coloca la variable a evaluar\n",
        "2. Tantas \"paticas\" como valores puede adoptar la variable\n",
        "3. Opcional: se coloca else-->case _\n",
        "\n",
        "Sintaxis\n",
        "\n",
        "```\n",
        "match variable:\n",
        " case valor1: expresión 1\n",
        " case valor2: expresión 2\n",
        " casae valorn: expresión n\n",
        " case _: ninguna de las anteriores\n",
        "```\n",
        "\n"
      ],
      "metadata": {
        "id": "H9YpwobwYJe-"
      }
    },
    {
      "cell_type": "code",
      "source": [
        "#Programa que identifique si la letra ingresada es una vocal mayúscula, minúscula\n",
        "letra=input(\"Ingrese una letra.\")\n",
        "match letra:\n",
        "  case \"a\" print(f\"[letra] es una vocal minúscula\")\n",
        "  case \"e\" print(f\"[letra] es una vocal minúscula\")\n",
        "  case \"i\" print(f\"[letra] es una vocal minúscula\")\n",
        "  case \"o\" print(f\"[letra] es una vocal minúscula\")\n",
        "  case \"u\" print(f\"[letra] es una vocal minúscula\")\n",
        "  case \"A\" print(f\"[letra] es una vocal MAYÚSCULA\")\n",
        "  case \"E\" print(f\"[letra] es una vocal MAYÚSCULA\")\n",
        "  case \"I\" print(f\"[letra] es una vocal MAYÚSCULA\")\n",
        "  case \"O\" print(f\"[letra] es una vocal MAYÚSCULA\")\n",
        "  case \"U\" print(f\"[letra] es una vocal MAYÚSCULA\")\n",
        "  case _:print(f\"{letra} no es una vocal\")"
      ],
      "metadata": {
        "id": "vLX7rjinZuLF"
      },
      "execution_count": null,
      "outputs": []
    },
    {
      "cell_type": "code",
      "source": [
        "#programa que identifique si la letra es una vocal mayúscula, minúscula\n",
        "letra=input(\"Ingrese una letra \")\n",
        "if letra==\"a\":\n",
        "  print(f\"es una vocal minúscula\")\n",
        "elif letra== \"e\":\n",
        "   print(f\"{letra}  es una vocal minúscula\")\n",
        "elif letra== \"i\":\n",
        "   print(f\"{letra} es una vocal minúscula\")\n",
        "elif letra== \"o\":\n",
        "   print(f\"{letra} es una vocal minúscula\")\n",
        "elif letra== \"u\":\n",
        "   print(f\"{letra} es una vocal minúscula\")\n",
        "elif letra== \"A\":\n",
        "   print(f\"{letra} es una vocal MAYÚSCULA\")\n",
        "elif letra== \"E\":\n",
        "   print(f\"{letra} es una vocal MAYÚSCULA\")\n",
        "elif letra== \"I\":\n",
        "   print(f\"{letra} es una vocal MAYÚSCULA\")\n",
        "elif letra== \"O\":\n",
        "   print(f\"{letra} es una vocal MAYÚSCULA\")\n",
        "elif letra== \"U\": print(f\"[letra] es una vocal MAYÚSCULA\")\n",
        "else:\n",
        "   print(f\"{letra} no es una vocal\")"
      ],
      "metadata": {
        "colab": {
          "base_uri": "https://localhost:8080/"
        },
        "id": "in6QgMVdbL-E",
        "outputId": "b241ada6-8823-422b-f5bb-adf3756fa4e4"
      },
      "execution_count": 6,
      "outputs": [
        {
          "output_type": "stream",
          "name": "stdout",
          "text": [
            "Ingrese una letraE\n",
            "E es una vocal MAYÚSCULA\n"
          ]
        }
      ]
    },
    {
      "cell_type": "code",
      "source": [
        "if letra==\"a\" or letra==\"e\" or letra==\"i\" or letra==\"o\" or letra==\"u\":\n",
        "  print(f\"{letra} es una vocal minúscula\")\n",
        "elif letra==\"A\" or letra==\"E\" or letra==\"I\" or letra==\"O\" or letra==\"U\":\n",
        "   print(f\"{letra} es una vocal MAYÚSCULA\")\n",
        "else:\n",
        "  print(f\"[letra] no es una vocal\")"
      ],
      "metadata": {
        "id": "lEAR0cvRfqDv"
      },
      "execution_count": null,
      "outputs": []
    }
  ]
}